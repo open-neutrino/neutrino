{
  "cells": [
    {
      "cell_type": "markdown",
      "id": "438e4ed7",
      "metadata": {
        "id": "438e4ed7"
      },
      "source": [
        "# Static Evaluation on Collected Traces\n",
        "\n",
        "* Usage: Click `Runtime -> Run All`\n",
        "* Hardware Requirement: No special requirement, only a CPU enabled machine.\n",
        "* Software Requirement: Python 3, with `numpy`, `pandas`, `matplotlib`.\n",
        "* Disk Space Requirement: It takes ~1.5GB to place traces downloaded from Internet.\n",
        "\n",
        "Expected results:\n",
        "Static evaluation on collected traces are expected to closely fit the figures and tables\n",
        "presented in the paper, except for some statistics in the first five rows of Table. 2 and\n",
        "Sec. 4.5. To save disk space, we mistakenly deleted the original traces for these results.\n",
        "And because these results capture the finest runtime dynamics of the GPU, exact\n",
        "reproduction will be impossible. Our later experiments can only reproduce similar results.\n",
        "Please accept our apologies for the inconvenience, and we will update the revised paper\n",
        "to include the latest results.\n",
        "\n",
        "Notes:\n",
        "Each following section can be executed independently with trace downloaded."
      ]
    },
    {
      "cell_type": "markdown",
      "source": [
        "## 0. Download Traces\n",
        "\n",
        "Our collected trace, after washing out unnecessary part, takes up ~1.5GB for processing.\n",
        "\n",
        "It's hosted on Cloudfare R2 with following anonymous link:"
      ],
      "metadata": {
        "id": "WPWSfdvvS-Ut"
      },
      "id": "WPWSfdvvS-Ut"
    },
    {
      "cell_type": "code",
      "source": [
        "!wget https://pub-eef24bf0aa5b4950860ea28dfbe39d8c.r2.dev/trace.zip\n",
        "!unzip trace.zip"
      ],
      "metadata": {
        "id": "d6iLNN9CTAOl"
      },
      "id": "d6iLNN9CTAOl",
      "execution_count": null,
      "outputs": []
    },
    {
      "cell_type": "markdown",
      "id": "81af0e4e",
      "metadata": {
        "id": "81af0e4e"
      },
      "source": [
        "## 1. Block Scheduling Cost\n",
        "\n",
        "* Correspondence to paper: Sec. 4.5\n",
        "* Notes: Optimization example is not included in static evaluation, please see `dynamic.ipynb`\n",
        "\n",
        "#### Explanation:\n",
        "As briefly discussed in Sec. 4.5, block scheduling cost are wasted cycles on clearing the context of finished block and scheduling a new block to the SM.\n",
        "\n",
        "Neutrino measure the block scheduling cost via tracing the `%smid` and block start/end time.\n",
        "Then, for blocks on the same SM, we calculate the difference between *the starting time of next block* and *the finishing time of previous block as the block scheduling cost*.\n",
        "\n",
        "We represent block scheduling cost in `cycles` and the way to interpret the cost is its portion w.r.t. the execution time."
      ]
    },
    {
      "cell_type": "code",
      "source": [
        "import sys\n",
        "\n",
        "!{sys.executable} block_sched/block_sched.py block_sched/Jan_23_06_27_37_268336/result/0.486795.bin"
      ],
      "metadata": {
        "id": "djd7MJhaTDmw"
      },
      "id": "djd7MJhaTDmw",
      "execution_count": null,
      "outputs": []
    },
    {
      "cell_type": "markdown",
      "source": [
        "## 2. Densified Memory Access Timeline (DMAT) Plot\n",
        "\n",
        "* Correspondence to paper: Fig.1, Fig.10(A/B/C), in total 4 figures presented\n",
        "* Here we use a Jupyter magic `%%capture` that will capture the `stdout` of the cell, we use it to read the path of generated DMAT Plot for display."
      ],
      "metadata": {
        "id": "NqBPrS8uTHVw"
      },
      "id": "NqBPrS8uTHVw"
    },
    {
      "cell_type": "code",
      "source": [
        "import sys\n",
        "from IPython import Image"
      ],
      "metadata": {
        "id": "kV4-PAukTJx_"
      },
      "id": "kV4-PAukTJx_",
      "execution_count": null,
      "outputs": []
    },
    {
      "cell_type": "code",
      "source": [
        "%%capture cap\n",
        "!{sys.executable} dmat/dmat.py dmat/fig1.dmat"
      ],
      "metadata": {
        "id": "b1BW4GYQTLQP"
      },
      "id": "b1BW4GYQTLQP",
      "execution_count": null,
      "outputs": []
    },
    {
      "cell_type": "code",
      "source": [
        "# Output corresponding to Fig. 1\n",
        "Image(cap.stdout)"
      ],
      "metadata": {
        "id": "82mR1xePTMmc"
      },
      "id": "82mR1xePTMmc",
      "execution_count": null,
      "outputs": []
    },
    {
      "cell_type": "code",
      "source": [
        "%%capture cap\n",
        "!{sys.executable} dmat/dmat.py dmat/fig10a.dmat"
      ],
      "metadata": {
        "id": "v0M8tCUdTN8t"
      },
      "id": "v0M8tCUdTN8t",
      "execution_count": null,
      "outputs": []
    },
    {
      "cell_type": "code",
      "source": [
        "# Output corresponding to Fig. 10a\n",
        "Image(cap.stdout)"
      ],
      "metadata": {
        "id": "lLkfHc9dTPmK"
      },
      "id": "lLkfHc9dTPmK",
      "execution_count": null,
      "outputs": []
    },
    {
      "cell_type": "code",
      "source": [
        "%%capture cap\n",
        "!{sys.executable} dmat/dmat.py dmat/fig10b.dmat"
      ],
      "metadata": {
        "id": "ZM9at5P-TRe_"
      },
      "id": "ZM9at5P-TRe_",
      "execution_count": null,
      "outputs": []
    },
    {
      "cell_type": "code",
      "source": [
        "# Output corresponding to Fig. 10b\n",
        "Image(cap.stdout)"
      ],
      "metadata": {
        "id": "Woq_nzIFTTNF"
      },
      "id": "Woq_nzIFTTNF",
      "execution_count": null,
      "outputs": []
    },
    {
      "cell_type": "code",
      "source": [
        "%%capture cap\n",
        "!{sys.executable} dmat/dmat.py dmat/fig10c.dmat"
      ],
      "metadata": {
        "id": "S1HQJgeATWIx"
      },
      "id": "S1HQJgeATWIx",
      "execution_count": null,
      "outputs": []
    },
    {
      "cell_type": "code",
      "source": [
        "# Output corresponding to Fig. 10c\n",
        "Image(cap.stdout)"
      ],
      "metadata": {
        "id": "y2jFb7RsTZWk"
      },
      "id": "y2jFb7RsTZWk",
      "execution_count": null,
      "outputs": []
    },
    {
      "cell_type": "markdown",
      "source": [
        "## 3. Kernel Slowdown and Additional Registers\n",
        "\n",
        "* Correspondence to paper: Table. 2\n",
        "* Notes: The CUTLASS and Triton part are collected later and are _slightly_ different from the original paper result. We will use the new results in the revised paper."
      ],
      "metadata": {
        "id": "nG6emAocTaw5"
      },
      "id": "nG6emAocTaw5"
    },
    {
      "cell_type": "code",
      "source": [
        "import sys"
      ],
      "metadata": {
        "id": "NSYiRKLWTdnN"
      },
      "id": "NSYiRKLWTdnN",
      "execution_count": null,
      "outputs": []
    },
    {
      "cell_type": "code",
      "source": [
        "# CUTLASS Part of Results\n",
        "!{sys.executable} kernel_overhead/cutlass_op/overhead.py"
      ],
      "metadata": {
        "id": "31iaIRcnTfCZ"
      },
      "id": "31iaIRcnTfCZ",
      "execution_count": null,
      "outputs": []
    },
    {
      "cell_type": "code",
      "source": [
        "# Triton Part of Results\n",
        "!{sys.executable} kernel_overhead/triton_op/overhead.py"
      ],
      "metadata": {
        "id": "hCI6zScLThIM"
      },
      "id": "hCI6zScLThIM",
      "execution_count": null,
      "outputs": []
    },
    {
      "cell_type": "code",
      "source": [
        "# PyTorch Part of Results\n",
        "!{sys.executable} kernel_overhead/pytorch_op/overhead.py"
      ],
      "metadata": {
        "id": "PqJsGqEaThnx"
      },
      "id": "PqJsGqEaThnx",
      "execution_count": null,
      "outputs": []
    },
    {
      "cell_type": "markdown",
      "source": [
        "## 4. Maximum Memory Usage\n",
        "\n",
        "* Correspondence to paper: Fig. 11"
      ],
      "metadata": {
        "id": "Gcy-MAEQTjVl"
      },
      "id": "Gcy-MAEQTjVl"
    },
    {
      "cell_type": "code",
      "source": [
        "import os\n",
        "\n",
        "BASE = \"max_mem\"\n",
        "\n",
        "for model in os.listdir(BASE):\n",
        "    for test in os.listdir(os.path.join(BASE, model)):\n",
        "        max_mem = 0\n",
        "        original = 0\n",
        "        for sub in os.listdir(os.path.join(BASE, model, test)):\n",
        "            path = os.path.join(BASE, model, test, sub)\n",
        "            with open(os.path.join(path, \"stdout.log\"), \"r\") as f:\n",
        "                stdout = f.read().split(\"\\n\")\n",
        "            for line in stdout:\n",
        "                if line.startswith(\"max memory:\"):\n",
        "                    original = max(original, int(line.strip().split(\" \")[-1]))\n",
        "                    break\n",
        "            traces = [trace for trace in os.listdir(path) if os.path.isdir(os.path.join(path, trace))]\n",
        "            for trace in traces:\n",
        "                # print(os.path.join(path, trace, \"event.log\"))\n",
        "                with open(os.path.join(path, trace, \"event.log\"), \"r\", encoding=\"utf-8\", errors=\"ignore\") as f:\n",
        "                    event_log = f.read().split(\"\\n\")\n",
        "                for line in event_log:\n",
        "                    if line.startswith(\"[exec] probe-mem\"):\n",
        "                        max_mem = max(max_mem, int(line.split(\" \")[2]))\n",
        "        print(model, test, original, max_mem)"
      ],
      "metadata": {
        "id": "MRjo7-WjTi5i"
      },
      "id": "MRjo7-WjTi5i",
      "execution_count": null,
      "outputs": []
    },
    {
      "cell_type": "markdown",
      "source": [
        "## 5. Exposed Latency\n",
        "\n",
        "* Correspondence to paper: Fig. 12"
      ],
      "metadata": {
        "id": "7Dq357lvTnOB"
      },
      "id": "7Dq357lvTnOB"
    },
    {
      "cell_type": "code",
      "source": [
        "import numpy as np\n",
        "import pandas as pd\n",
        "import matplotlib.pyplot as plt\n",
        "import matplotlib\n",
        "\n",
        "matplotlib.rc('font', **{'size' : 12})\n",
        "\n",
        "def plot(name: str, data: pd.DataFrame):\n",
        "\n",
        "    # data for conv\n",
        "    labels = data[\"probe\"]\n",
        "    ncu_ratios = data[\"ncu\"] / data[\"original\"]\n",
        "    neutrino_ratios = data[\"neutrino\"] / data[\"original\"]\n",
        "\n",
        "    epilogue = data[\"epilogue\"] / data[\"neutrino\"]\n",
        "    kernel   = data[\"kernel\"] / data[\"neutrino\"]\n",
        "    prologue = data[\"prologue\"] / data[\"neutrino\"]\n",
        "\n",
        "    proportions = [\n",
        "      [0.008547190046981101, 0.772077464754433, 0.21937534519858598],\n",
        "      [0.015973571121974683, 0.21929421667871976, 0.7647322121993056],\n",
        "      [0.01659435009449902, 0.22045060782593218, 0.7629550420795688]\n",
        "    ]\n",
        "\n",
        "    proportions = np.array(proportions).T\n",
        "    bottoms = np.array(epilogue * neutrino_ratios)\n",
        "    middles = np.array(kernel * neutrino_ratios) + bottoms\n",
        "    aboves  = np.array(prologue * neutrino_ratios) + middles\n",
        "\n",
        "    x = np.arange(len(labels))  # the label locations\n",
        "    width = 0.31  # the width of the bars\n",
        "\n",
        "    fig, ax = plt.subplots(figsize=(6,4))\n",
        "    bars1 = ax.bar(x - width/2, ncu_ratios, width, label='Nsight Compute', color='#b31805')\n",
        "\n",
        "    # Create stacked bars for green values\n",
        "    # bars2_bottom = ax.bar(x + width/2, neutrino_aboves, width, label='Neutrino (Prologue)', color='#00bb00')\n",
        "    bars2_middle = ax.bar(x + width/2, aboves, width, label=\"Neutrino (Kernel)\", color='#812be1')\n",
        "    bars2_bottom = ax.bar(x + width/2, bottoms, width,  label='Neutrino (Epilogue)', color='#0053d6')\n",
        "\n",
        "    ax.set_xticks(x)\n",
        "    ax.set_xticklabels(labels)\n",
        "\n",
        "    ncu_labels = [f\"{a:.2f}x\" for a in ncu_ratios.tolist()]\n",
        "    neutrino_labels = [f\"{a:.2f}x\" for a in neutrino_ratios.tolist()]\n",
        "    ax.bar_label(ax.containers[0], labels=ncu_labels, label_type='edge')\n",
        "    ax.margins(y=0.1)\n",
        "    ax.bar_label(ax.containers[1], labels=neutrino_labels, label_type='edge')\n",
        "    ax.margins(y=0.1)\n",
        "    ax.set_label(name)\n",
        "\n",
        "    ax.legend()\n",
        "\n",
        "    # Show the plot\n",
        "    plt.show()\n",
        "    # plt.savefig(f\"{data[\"name\", 0]}.svg\", format=\"svg\")"
      ],
      "metadata": {
        "id": "j-Ucej0ETotM"
      },
      "id": "j-Ucej0ETotM",
      "execution_count": null,
      "outputs": []
    },
    {
      "cell_type": "code",
      "source": [
        "plot(\"attn\", pd.read_csv(\"exposed_latency/attn.csv\"))"
      ],
      "metadata": {
        "id": "0Jv1AZ4sTrdZ"
      },
      "id": "0Jv1AZ4sTrdZ",
      "execution_count": null,
      "outputs": []
    },
    {
      "cell_type": "code",
      "source": [
        "plot(\"gmm\", pd.read_csv(\"exposed_latency/gmm.csv\"))"
      ],
      "metadata": {
        "id": "SQmS8UYATtQg"
      },
      "id": "SQmS8UYATtQg",
      "execution_count": null,
      "outputs": []
    },
    {
      "cell_type": "code",
      "source": [
        "plot(\"conv\", pd.read_csv(\"exposed_latency/conv.csv\"))"
      ],
      "metadata": {
        "id": "quT5uUyLTuek"
      },
      "id": "quT5uUyLTuek",
      "execution_count": null,
      "outputs": []
    },
    {
      "cell_type": "code",
      "source": [
        "plot(\"gemm\", pd.read_csv(\"exposed_latency/gemm.csv\"))"
      ],
      "metadata": {
        "id": "dRodwUY0Tvo1"
      },
      "id": "dRodwUY0Tvo1",
      "execution_count": null,
      "outputs": []
    },
    {
      "cell_type": "markdown",
      "source": [
        "## 6. Warp Scheduling and Tailing Effect\n",
        "\n",
        "* Correspondence to paper: Fig. 13 of Sec. 7"
      ],
      "metadata": {
        "id": "VXlr7wLnTxCa"
      },
      "id": "VXlr7wLnTxCa"
    },
    {
      "cell_type": "code",
      "source": [
        "import sys\n",
        "from IPython.display import Image # For display"
      ],
      "metadata": {
        "id": "La8ReLJVTzY9"
      },
      "id": "La8ReLJVTzY9",
      "execution_count": null,
      "outputs": []
    },
    {
      "cell_type": "code",
      "source": [
        "# Fig13a\n",
        "!{sys.executable} warp_sched/fig13a.py warp_sched/exclusive_sched/result/2.756086.bin\n",
        "Image(\"warp_sched/fig13a.png\")"
      ],
      "metadata": {
        "id": "yEHmutZdT0uF"
      },
      "id": "yEHmutZdT0uF",
      "execution_count": null,
      "outputs": []
    },
    {
      "cell_type": "code",
      "source": [
        "# Fig13b\n",
        "!{sys.executable} warp_sched/fig13b.py warp_sched/shared_sched/result/3.201079.bin\n",
        "Image(\"warp_sched/fig13b.png\")"
      ],
      "metadata": {
        "id": "tWzS9vfcT2of"
      },
      "id": "tWzS9vfcT2of",
      "execution_count": null,
      "outputs": []
    },
    {
      "cell_type": "code",
      "source": [
        "# Fig13cd\n",
        "!{sys.executable} warp_sched/fig13cd.py warp_sched/tmp.pkl"
      ],
      "metadata": {
        "id": "vQX0Gt34T3O8"
      },
      "id": "vQX0Gt34T3O8",
      "execution_count": null,
      "outputs": []
    },
    {
      "cell_type": "code",
      "source": [
        "Image(\"warp_sched/fig13c.png\")"
      ],
      "metadata": {
        "id": "8sk47zpXT53O"
      },
      "id": "8sk47zpXT53O",
      "execution_count": null,
      "outputs": []
    },
    {
      "cell_type": "code",
      "source": [
        "Image(\"warp_sched/fig13d.png\")"
      ],
      "metadata": {
        "id": "-2JBbSDfT7Cf"
      },
      "id": "-2JBbSDfT7Cf",
      "execution_count": null,
      "outputs": []
    },
    {
      "cell_type": "code",
      "source": [
        "Image(\"warp_sched/fig13d-sub.png\")"
      ],
      "metadata": {
        "id": "1oLDd7g7T7_X"
      },
      "id": "1oLDd7g7T7_X",
      "execution_count": null,
      "outputs": []
    }
  ],
  "metadata": {
    "kernelspec": {
      "display_name": "testenv",
      "language": "python",
      "name": "python3"
    },
    "language_info": {
      "codemirror_mode": {
        "name": "ipython",
        "version": 3
      },
      "file_extension": ".py",
      "mimetype": "text/x-python",
      "name": "python",
      "nbconvert_exporter": "python",
      "pygments_lexer": "ipython3",
      "version": "3.11.11"
    },
    "colab": {
      "provenance": [],
      "collapsed_sections": [
        "81af0e4e",
        "NqBPrS8uTHVw",
        "nG6emAocTaw5",
        "Gcy-MAEQTjVl",
        "7Dq357lvTnOB",
        "VXlr7wLnTxCa"
      ]
    }
  },
  "nbformat": 4,
  "nbformat_minor": 5
}